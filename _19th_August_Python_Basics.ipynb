{
 "cells": [
  {
   "cell_type": "code",
   "execution_count": 5,
   "id": "ba2e2e24-4653-426c-8e3e-5bbc7843549d",
   "metadata": {},
   "outputs": [
    {
     "name": "stdout",
     "output_type": "stream",
     "text": [
      "20\n",
      "10\n"
     ]
    }
   ],
   "source": [
    "\n",
    "x=10\n",
    "y=20\n",
    " \n",
    "x,y = y,x\n",
    "\n",
    "print(x)\n",
    "print(y)"
   ]
  },
  {
   "cell_type": "code",
   "execution_count": 6,
   "id": "7139b7ba-0e35-4859-93bc-9bdbdf3e6957",
   "metadata": {},
   "outputs": [
    {
     "name": "stdin",
     "output_type": "stream",
     "text": [
      " 20\n",
      " 30\n"
     ]
    },
    {
     "name": "stdout",
     "output_type": "stream",
     "text": [
      "Area= 600\n"
     ]
    }
   ],
   "source": [
    "\n",
    "x=int(input())\n",
    "y=int(input())\n",
    "Area=x*y\n",
    "print(\"Area=\", Area)"
   ]
  },
  {
   "cell_type": "code",
   "execution_count": 7,
   "id": "3ed99bbd-18f9-4daf-9497-5f81520f9bdd",
   "metadata": {},
   "outputs": [
    {
     "name": "stdin",
     "output_type": "stream",
     "text": [
      "Enter °C:  20.3\n"
     ]
    },
    {
     "name": "stdout",
     "output_type": "stream",
     "text": [
      "20.3°C = 68.54°F\n"
     ]
    }
   ],
   "source": [
    "\n",
    "c = float(input(\"Enter °C: \"))\n",
    "f = c * 9/5 + 32\n",
    "print(f\"{c}°C = {f}°F\")\n"
   ]
  },
  {
   "cell_type": "code",
   "execution_count": 8,
   "id": "a213703a-6b95-4732-919d-92597c2344e0",
   "metadata": {},
   "outputs": [
    {
     "name": "stdin",
     "output_type": "stream",
     "text": [
      " Sandeep\n"
     ]
    },
    {
     "name": "stdout",
     "output_type": "stream",
     "text": [
      "the length of the string is: 7\n"
     ]
    }
   ],
   "source": [
    "s=str(input())\n",
    "length=len(s)\n",
    "print(\"the length of the string is:\",length)"
   ]
  },
  {
   "cell_type": "code",
   "execution_count": 11,
   "id": "4d74790c-b0ca-4f1c-8a46-4f4c9af8f86f",
   "metadata": {},
   "outputs": [
    {
     "name": "stdin",
     "output_type": "stream",
     "text": [
      "Enter a sentence:  Sandeep sahu\n"
     ]
    },
    {
     "name": "stdout",
     "output_type": "stream",
     "text": [
      "5\n"
     ]
    }
   ],
   "source": [
    "sentence = input(\"Enter a sentence: \")\n",
    "count= sum(sentence.count(vowel) for vowel in \"aeiouAEIOU\")\n",
    "print(count)"
   ]
  },
  {
   "cell_type": "code",
   "execution_count": 16,
   "id": "87dac9cc-189e-472e-8923-c7b50ea9af58",
   "metadata": {},
   "outputs": [
    {
     "data": {
      "text/plain": [
       "'peednaS'"
      ]
     },
     "execution_count": 16,
     "metadata": {},
     "output_type": "execute_result"
    }
   ],
   "source": [
    "S1=\"Sandeep\"\n",
    "S1[7::-1]"
   ]
  },
  {
   "cell_type": "code",
   "execution_count": 23,
   "id": "94fa549c-a9ef-48a6-a60f-adba9a23d85d",
   "metadata": {},
   "outputs": [
    {
     "name": "stdin",
     "output_type": "stream",
     "text": [
      "Enter a string:  ava\n"
     ]
    },
    {
     "name": "stdout",
     "output_type": "stream",
     "text": [
      "Palindrome\n"
     ]
    }
   ],
   "source": [
    "def is_palindrome(s):\n",
    "    return s == s[::-1]\n",
    "\n",
    "input_string = input(\"Enter a string: \")\n",
    "\n",
    "if is_palindrome(input_string):\n",
    "    print(\"Palindrome\")\n",
    "else:\n",
    "    print(\"Not a palindrome\")"
   ]
  },
  {
   "cell_type": "code",
   "execution_count": 24,
   "id": "9b2c89de-2aad-4cbe-afe4-d497f0f407a2",
   "metadata": {},
   "outputs": [
    {
     "name": "stdin",
     "output_type": "stream",
     "text": [
      "Enter a string:  sa nd ee p\n"
     ]
    },
    {
     "name": "stdout",
     "output_type": "stream",
     "text": [
      "Modified string without spaces: sandeep\n"
     ]
    }
   ],
   "source": [
    "input_string = input(\"Enter a string: \")\n",
    "modified_string = input_string.replace(\" \", \"\")\n",
    "print(\"Modified string without spaces:\", modified_string)"
   ]
  }
 ],
 "metadata": {
  "kernelspec": {
   "display_name": "Python 3 (ipykernel)",
   "language": "python",
   "name": "python3"
  },
  "language_info": {
   "codemirror_mode": {
    "name": "ipython",
    "version": 3
   },
   "file_extension": ".py",
   "mimetype": "text/x-python",
   "name": "python",
   "nbconvert_exporter": "python",
   "pygments_lexer": "ipython3",
   "version": "3.10.8"
  }
 },
 "nbformat": 4,
 "nbformat_minor": 5
}
